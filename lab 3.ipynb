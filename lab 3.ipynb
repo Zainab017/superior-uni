{
 "cells": [
  {
   "cell_type": "code",
   "execution_count": null,
   "id": "9de9b9d4-641c-4d54-b809-06f628b9a18b",
   "metadata": {},
   "outputs": [],
   "source": [
    "# Task 1; Create a Python class called Rectangle with the following\n",
    "# attributes:\n",
    "# 3. width (float): representing the width of the rectangle.\n",
    "# 4. height (float): representing the height of the rectangle.\n",
    "# Implement the following methods for the Rectangle class:\n",
    "# 1. __init__(self, width, height): Constructor method to initialize the attributes of the\n",
    "# rectangle object.\n",
    "# 2. __str__(self): Method to return a string representation of the rectangle object in the\n",
    "# format \"Rectangle: [width] x [height]\".\n",
    "# 3. area(self): Method to calculate and return the area of the rectangle (width * height).\n",
    "# 4. perimeter(self): Method to calculate and return the perimeter of the rectangle (2 *\n",
    "# (width + height))."
   ]
  },
  {
   "cell_type": "code",
   "execution_count": null,
   "id": "f38f3035-7dbe-41d6-96c5-889cf6e947fc",
   "metadata": {},
   "outputs": [],
   "source": [
    "# Create an instance of the Rectangle class, initialize its\n",
    "# attributes with user input for width and height, and perform\n",
    "# the following operations:\n",
    "# 1. Display the rectangle details using the __str__ method.\n",
    "# 2. Calculate and display the area of the rectangle using the area method.\n",
    "# 3. Calculate and display the perimeter of the rectangle using the perimeter method."
   ]
  },
  {
   "cell_type": "code",
   "execution_count": 15,
   "id": "f2280976-399a-4cb4-bb29-214ec399e6bb",
   "metadata": {},
   "outputs": [
    {
     "name": "stdout",
     "output_type": "stream",
     "text": [
      " area rectangle:[width] X [height]\n",
      "rectangle:2.0 X 4.0\n",
      "perimeter : 2(width + height)\n",
      "perimeter : 2(2.0 + 4.0)\n",
      "area of rectangle of width '2.0' and height '4.0' is '8.0' \n",
      "perimeter of rectangle =  12.0\n"
     ]
    }
   ],
   "source": [
    "class Rectangle:\n",
    "    #(done by using instance attributes,)\n",
    "    def __init__(self,width:float ,height:float):\n",
    "        self.width=width\n",
    "        self.height=height\n",
    "    def __str__(self):\n",
    "        print(' area rectangle:[width] X [height]')\n",
    "        print(f\"rectangle:{self.width} X {self.height}\")\n",
    "        print('perimeter : 2(width + height)')\n",
    "        print(f\"perimeter : 2({self.width} + {self.height})\")\n",
    "    def area(self):\n",
    "        print(f\"area of rectangle of width '{self.width}' and height '{self.height}' is '{self.width*self.height}' \")\n",
    "    def perimeter(self):\n",
    "        print('perimeter of rectangle = ' , 2*(self.width+self.height))\n",
    "rectangle=Rectangle(2.0,4.0)\n",
    "rectangle.__str__()\n",
    "rectangle.area()\n",
    "rectangle.perimeter()"
   ]
  },
  {
   "cell_type": "code",
   "execution_count": null,
   "id": "a99318a2-f086-40a6-84c3-68a5171aad90",
   "metadata": {},
   "outputs": [],
   "source": []
  }
 ],
 "metadata": {
  "kernelspec": {
   "display_name": "Python 3 (ipykernel)",
   "language": "python",
   "name": "python3"
  },
  "language_info": {
   "codemirror_mode": {
    "name": "ipython",
    "version": 3
   },
   "file_extension": ".py",
   "mimetype": "text/x-python",
   "name": "python",
   "nbconvert_exporter": "python",
   "pygments_lexer": "ipython3",
   "version": "3.12.4"
  }
 },
 "nbformat": 4,
 "nbformat_minor": 5
}
