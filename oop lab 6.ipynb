{
 "cells": [
  {
   "cell_type": "code",
   "execution_count": null,
   "id": "993d7b01-506b-4165-9513-ffc954d6ac3f",
   "metadata": {},
   "outputs": [
    {
     "name": "stdout",
     "output_type": "stream",
     "text": [
      "Enter course type (Undergraduate/Graduate):  graduate\n",
      "Enter course code:  0009AL\n"
     ]
    }
   ],
   "source": [
    "# Lab 6 - Task\n",
    "# Task 1 Create a Python program to model a university course\n",
    "# registration system:\n",
    "# 1. Implement a parent class called Course with attributes course_code and\n",
    "# course_name. Include a method display_info to display the course code and name.\n",
    "# 2. Create two child classes UndergraduateCourse and GraduateCourse inheriting\n",
    "# from Course. Each should have an additional attribute (year_level for\n",
    "# UndergraduateCourse and research_area for GraduateCourse) and a method\n",
    "# additional_info to display the additional attributes.\n",
    "# 3. Implement a function register_course that takes user input to register a course. The\n",
    "# user should input the course code, course name, year level (for undergraduate\n",
    "# courses), or research area (for graduate courses).\n",
    "# Parent class Course\n",
    "class Course:\n",
    "    def __init__(self, course_code, course_name):\n",
    "        self.course_code = course_code\n",
    "        self.course_name = course_name\n",
    "    \n",
    "    def display_info(self):\n",
    "        print(f\"Course Code: {self.course_code}, Course Name: {self.course_name}\")\n",
    "\n",
    "\n",
    "class UndergraduateCourse(Course):\n",
    "    def __init__(self, course_code, course_name, year_level):\n",
    "        super().__init__(course_code, course_name)\n",
    "        self.year_level = year_level\n",
    "    \n",
    "    def additional_info(self):\n",
    "        print(f\"Year Level: {self.year_level}\")\n",
    "\n",
    "\n",
    "class GraduateCourse(Course):\n",
    "    def __init__(self, course_code, course_name, research_area):\n",
    "        super().__init__(course_code, course_name)\n",
    "        self.research_area = research_area\n",
    "    \n",
    "    def additional_info(self):\n",
    "        print(f\"Research Area: {self.research_area}\")\n",
    "\n",
    "\n",
    "def register_course():\n",
    "    course_type = input(\"Enter course type (Undergraduate/Graduate): \").strip().lower()\n",
    "\n",
    "    course_code = input(\"Enter course code: \").strip()\n",
    "    course_name = input(\"Enter course name: \").strip()\n",
    "\n",
    "    if course_type == 'undergraduate':\n",
    "        year_level = input(\"Enter year level (e.g., 1, 2, 3, 4): \").strip()\n",
    "        course = UndergraduateCourse(course_code, course_name, year_level)\n",
    "    elif course_type == 'graduate':\n",
    "        research_area = input(\"Enter research area: \").strip()\n",
    "        course = GraduateCourse(course_code, course_name, research_area)\n",
    "    else:\n",
    "        print(\"Invalid course type entered!\")\n",
    "        return\n",
    "\n",
    "    course.display_info()\n",
    "    course.additional_info()\n",
    "\n",
    "\n",
    "if __name__ == \"__main__\":\n",
    "    register_course()\n"
   ]
  },
  {
   "cell_type": "code",
   "execution_count": null,
   "id": "e90f120c-8a29-4618-a961-c3061dfdc7ed",
   "metadata": {},
   "outputs": [],
   "source": []
  }
 ],
 "metadata": {
  "kernelspec": {
   "display_name": "Python 3 (ipykernel)",
   "language": "python",
   "name": "python3"
  },
  "language_info": {
   "codemirror_mode": {
    "name": "ipython",
    "version": 3
   },
   "file_extension": ".py",
   "mimetype": "text/x-python",
   "name": "python",
   "nbconvert_exporter": "python",
   "pygments_lexer": "ipython3",
   "version": "3.12.4"
  }
 },
 "nbformat": 4,
 "nbformat_minor": 5
}
