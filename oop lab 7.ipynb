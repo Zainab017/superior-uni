{
 "cells": [
  {
   "cell_type": "code",
   "execution_count": null,
   "id": "e90f120c-8a29-4618-a961-c3061dfdc7ed",
   "metadata": {},
   "outputs": [],
   "source": [
    "# Task 1; Create a Python program to model a vehicle rental\n",
    "# system:\n",
    "# 1. Implement a parent class called Vehicle with attributes make and model. Include a\n",
    "# method display_info to display the make and model of the vehicle.\n",
    "# 2. Create a child class Car inheriting from Vehicle. The Car class should have an\n",
    "# additional attribute num_doors and a method additional_info to display the number\n",
    "# of doors.\n",
    "# 3. Create another child class LuxuryCar inheriting from Car. The LuxuryCar class\n",
    "# should have an additional attribute features and a method additional_info to display\n",
    "# the luxury features."
   ]
  },
  {
   "cell_type": "code",
   "execution_count": 17,
   "id": "fb8a1417-16c4-446d-8a6c-0c98e7a95d37",
   "metadata": {},
   "outputs": [
    {
     "name": "stdout",
     "output_type": "stream",
     "text": [
      "Make: Toyota, Model: Corolla\n",
      "Make: Honda, Model: Civic\n",
      "Number of Doors: 4\n",
      "Make: BMW, Model: 7 Series\n",
      "Number of Doors: 5\n",
      "Luxury Features: Leather Seats, Sunroof, Surround Sound\n"
     ]
    }
   ],
   "source": [
    "# Parent class Vehicle\n",
    "class Vehicle:\n",
    "    def __init__(self, make, model):\n",
    "        self.make = make\n",
    "        self.model = model\n",
    "\n",
    "    def display_info(self):\n",
    "        print(f\"Make: {self.make}, Model: {self.model}\")\n",
    "\n",
    "class Car(Vehicle):\n",
    "    def __init__(self, make, model, num_doors):\n",
    "        super().__init__(make, model)\n",
    "        self.num_doors = num_doors\n",
    "\n",
    "    def additional_info(self):\n",
    "        print(f\"Number of Doors: {self.num_doors}\")\n",
    "class LuxuryCar(Car):\n",
    "    def __init__(self, make, model, num_doors, features):\n",
    "        super().__init__(make, model, num_doors)\n",
    "        self.features = features\n",
    "\n",
    "    def additional_info(self):\n",
    "        super().additional_info()\n",
    "        print(f\"Luxury Features: {', '.join(self.features)}\")\n",
    "if __name__ == \"__main__\":\n",
    "    \n",
    "    vehicle = Vehicle(\"Toyota\", \"Corolla\")\n",
    "    vehicle.display_info()\n",
    "\n",
    "    \n",
    "    car = Car(\"Honda\", \"Civic\", 4)\n",
    "    car.display_info()\n",
    "    car.additional_info()\n",
    "\n",
    "    \n",
    "    luxury_car = LuxuryCar(\"BMW\", \"7 Series\", 5, [\"Leather Seats\", \"Sunroof\", \"Surround Sound\"])\n",
    "    luxury_car.display_info()\n",
    "    luxury_car.additional_info()\n"
   ]
  },
  {
   "cell_type": "code",
   "execution_count": null,
   "id": "52947599-1685-4ef1-9124-2c3c62a95c09",
   "metadata": {},
   "outputs": [],
   "source": [
    "# Task 2; Create a Python program to model a company's employee\n",
    "# hierarchy:\n",
    "# 1. Implement a parent class called Employee with attributes name and position.\n",
    "# Include a method display_info to display the employee's name and position.\n",
    "# 2. Create two child classes Manager and Worker inheriting from Employee. Each\n",
    "# should have an additional attribute (department for Manager and hours_worked for\n",
    "# Worker) and a method additional_info to display the additional attributes.\n"
   ]
  },
  {
   "cell_type": "code",
   "execution_count": null,
   "id": "6e0a013f-51ce-4542-b87d-58df7ef6be8d",
   "metadata": {},
   "outputs": [],
   "source": []
  }
 ],
 "metadata": {
  "kernelspec": {
   "display_name": "Python 3 (ipykernel)",
   "language": "python",
   "name": "python3"
  },
  "language_info": {
   "codemirror_mode": {
    "name": "ipython",
    "version": 3
   },
   "file_extension": ".py",
   "mimetype": "text/x-python",
   "name": "python",
   "nbconvert_exporter": "python",
   "pygments_lexer": "ipython3",
   "version": "3.12.4"
  }
 },
 "nbformat": 4,
 "nbformat_minor": 5
}
