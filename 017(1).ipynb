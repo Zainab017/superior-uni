{
 "cells": [
  {
   "cell_type": "code",
   "execution_count": 1,
   "id": "0feaa43a-c22a-4489-ad40-04b86547213e",
   "metadata": {},
   "outputs": [],
   "source": [
    "def its_prime(i):\n",
    "    a=0\n",
    "    for n in range(1,i+1):\n",
    "        if i%n==0:\n",
    "            a=a+1\n",
    "    if a==2:\n",
    "        print('TRUE,number is prime')\n",
    "    else:\n",
    "        print('FALSE,number is not prime')\n",
    "    "
   ]
  },
  {
   "cell_type": "code",
   "execution_count": 2,
   "id": "ddbc2892-e3c4-4acd-9d5e-f1e1b59ac132",
   "metadata": {},
   "outputs": [
    {
     "name": "stdout",
     "output_type": "stream",
     "text": [
      "TRUE,number is prime\n"
     ]
    }
   ],
   "source": [
    "its_prime(7)"
   ]
  },
  {
   "cell_type": "code",
   "execution_count": 3,
   "id": "f22659b3-cd76-442f-8629-99696134152e",
   "metadata": {},
   "outputs": [],
   "source": [
    "import math\n",
    "def its_prime(n):\n",
    "    if n <= 1:\n",
    "        return False\n",
    "    for i in range(2, int(math.sqrt(n)) + 1):\n",
    "        if n % i == 0:\n",
    "            return False\n",
    "    return True\n"
   ]
  },
  {
   "cell_type": "code",
   "execution_count": 4,
   "id": "10fe49df-fd13-4e91-bbd7-fde970eb06a7",
   "metadata": {},
   "outputs": [
    {
     "data": {
      "text/plain": [
       "True"
      ]
     },
     "execution_count": 4,
     "metadata": {},
     "output_type": "execute_result"
    }
   ],
   "source": [
    "its_prime(5)"
   ]
  },
  {
   "cell_type": "code",
   "execution_count": null,
   "id": "7bff1765-6a3a-474b-975f-5107f4bb3ee7",
   "metadata": {},
   "outputs": [
    {
     "name": "stdout",
     "output_type": "stream",
     "text": [
      "enter a number 6\n"
     ]
    },
    {
     "name": "stdout",
     "output_type": "stream",
     "text": [
      "False\n"
     ]
    }
   ],
   "source": [
    "while True:\n",
    "    n=int(input('enter a number'))\n",
    "    print(its_prime(n))"
   ]
  },
  {
   "cell_type": "code",
   "execution_count": null,
   "id": "6f2e2d0c-9a18-480c-b9da-e1d4ad3b63ab",
   "metadata": {},
   "outputs": [],
   "source": []
  }
 ],
 "metadata": {
  "kernelspec": {
   "display_name": "Python 3 (ipykernel)",
   "language": "python",
   "name": "python3"
  },
  "language_info": {
   "codemirror_mode": {
    "name": "ipython",
    "version": 3
   },
   "file_extension": ".py",
   "mimetype": "text/x-python",
   "name": "python",
   "nbconvert_exporter": "python",
   "pygments_lexer": "ipython3",
   "version": "3.12.4"
  }
 },
 "nbformat": 4,
 "nbformat_minor": 5
}
