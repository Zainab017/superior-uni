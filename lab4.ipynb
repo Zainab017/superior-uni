{
 "cells": [
  {
   "cell_type": "code",
   "execution_count": null,
   "id": "f2a09d9f-962e-453a-9f22-f74c9b4f8d4c",
   "metadata": {},
   "outputs": [],
   "source": [
    "# Task 1; Create a Python class called Book with the following\n",
    "# attributes and methods:\n",
    "# 1. title (string): representing the title of the book.\n",
    "# 2. author (string): representing the author of the book.\n",
    "# 3. publication_year (integer): representing the publication year of the book.\n",
    "# 4. __init__(self, title, author, publication_year): Constructor method to initialize\n",
    "# the attributes of the book object.\n",
    "# 5. __str__(self): Method to return a string representation of the book object in the\n",
    "# format \"Title: [title], Author: [author], Publication Year: [publication_year]\"."
   ]
  },
  {
   "cell_type": "code",
   "execution_count": 2,
   "id": "aff46a3f-987c-47b1-84e4-725aecf7387a",
   "metadata": {},
   "outputs": [
    {
     "data": {
      "text/plain": [
       "'Title :infinity, Author:Qais, Publication Year: 2024'"
      ]
     },
     "execution_count": 2,
     "metadata": {},
     "output_type": "execute_result"
    }
   ],
   "source": [
    "class book:\n",
    "    def __init__(self,title,author,publication):\n",
    "        self.title=title\n",
    "        self.author=author\n",
    "        self.publication=publication\n",
    "    def __str__(self):\n",
    "        return f\"Title :{self.title}, Author:{self.author}, Publication Year: {self.publication}\"\n",
    "Book=book('infinity','Qais',2024)\n",
    "Book.__str__()\n",
    "    "
   ]
  },
  {
   "cell_type": "code",
   "execution_count": null,
   "id": "4aead87d-cdfd-4b53-8606-f7110044923d",
   "metadata": {},
   "outputs": [],
   "source": []
  }
 ],
 "metadata": {
  "kernelspec": {
   "display_name": "Python 3 (ipykernel)",
   "language": "python",
   "name": "python3"
  },
  "language_info": {
   "codemirror_mode": {
    "name": "ipython",
    "version": 3
   },
   "file_extension": ".py",
   "mimetype": "text/x-python",
   "name": "python",
   "nbconvert_exporter": "python",
   "pygments_lexer": "ipython3",
   "version": "3.12.4"
  }
 },
 "nbformat": 4,
 "nbformat_minor": 5
}
