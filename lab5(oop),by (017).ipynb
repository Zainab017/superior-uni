{
 "cells": [
  {
   "cell_type": "code",
   "execution_count": 14,
   "id": "01ba8ff0-95c0-427d-a123-2b55e002cf83",
   "metadata": {},
   "outputs": [
    {
     "name": "stdout",
     "output_type": "stream",
     "text": [
      "the book 'baang_e_darah' is written by 'Allama Iqbal'\n",
      " ____the book has total pages :'284'____\n",
      " the magazine 'life' is written by 'william'\n",
      "the issue number of magazine 'life per year is : '123'\n"
     ]
    }
   ],
   "source": [
    "# Lab 5 - Task\n",
    "# Task 1; Create a Python program to model a library system:\n",
    "# 1. Implement a parent class called Item with attributes title and author, and a method\n",
    "# display_info to display the title and author of the item.\n",
    "# 2. Then create two child classes Book and Magazine inheriting from Item, each with\n",
    "# an additional attribute (pages for Book and issue_number for Magazine) and a\n",
    "# method additional_info to display the additional attributes.\n",
    "class Item:\n",
    "    def __init__(self,title,author):\n",
    "        self.title=title\n",
    "        self.author=author\n",
    "class book(Item):\n",
    "     def __init__(self,title,author,pages):\n",
    "         self.pages=pages\n",
    "         super().__init__(title,author)\n",
    "         print(f\"the book '{self.title}' is written by '{self.author}'\")\n",
    "     def additional_details(self):\n",
    "         print(f\" ____the book has total pages :'{self.pages}'____\")\n",
    "class magazine(Item):\n",
    "    def __init__(self,title,author,issue_number):\n",
    "        self.issue_number=issue_number\n",
    "        super().__init__(title,author)\n",
    "        print(f\" the magazine '{self.title}' is written by '{self.author}'\")\n",
    "    def additional_info(self):\n",
    "        print(f\"the issue number of magazine '{self.title} per year is : '{self.issue_number}'\")\n",
    "item1=book('baang_e_darah','Allama Iqbal','284')\n",
    "item1.additional_details()\n",
    "item2=magazine('life','william','123')\n",
    "item2.additional_info()\n",
    "        \n",
    "        \n",
    "    "
   ]
  },
  {
   "cell_type": "code",
   "execution_count": null,
   "id": "b1fd854a-21d0-4049-bb8e-5c24ca61dcd6",
   "metadata": {},
   "outputs": [],
   "source": []
  }
 ],
 "metadata": {
  "kernelspec": {
   "display_name": "Python 3 (ipykernel)",
   "language": "python",
   "name": "python3"
  },
  "language_info": {
   "codemirror_mode": {
    "name": "ipython",
    "version": 3
   },
   "file_extension": ".py",
   "mimetype": "text/x-python",
   "name": "python",
   "nbconvert_exporter": "python",
   "pygments_lexer": "ipython3",
   "version": "3.12.4"
  }
 },
 "nbformat": 4,
 "nbformat_minor": 5
}
